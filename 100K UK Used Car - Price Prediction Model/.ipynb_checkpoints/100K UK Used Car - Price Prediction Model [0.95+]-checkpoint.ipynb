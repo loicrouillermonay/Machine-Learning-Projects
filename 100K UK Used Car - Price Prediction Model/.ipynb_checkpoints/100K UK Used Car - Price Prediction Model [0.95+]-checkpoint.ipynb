{
 "cells": [
  {
   "cell_type": "markdown",
   "metadata": {},
   "source": [
    "# 100K UK Used Car - Price Prediction Model [0.95+]\n",
    "\n",
    "## Task Details\n",
    "\n",
    "This Notebook has been written with an interest in the task \"*Make a tool to predict car value*\" from the task \"*Car Price Regression Model*\" from the \"*100,000 UK Used Car Dataset*\" Dataset.\n",
    "\n",
    "More specifically, the purpose of this notebook is to have some insights and visualisations of the dataset as a whole and create a generalized used car price prediction model.\n",
    "\n",
    "### Context of the Dataset\n",
    "\n",
    "\" *Scraped data of used cars listings. 100,000 listings, which have been separated into files corresponding to each car manufacturer.*\" [Source](https://www.kaggle.com/adityadesai13)\n",
    "\n",
    "### Content of the Dataset\n",
    "\n",
    "\" *The cleaned data set contains information of price, transmission, mileage, fuel type, road tax, miles per gallon (mpg), and engine size.*\""
   ]
  },
  {
   "cell_type": "markdown",
   "metadata": {},
   "source": [
    "# Step 1 : Data"
   ]
  },
  {
   "cell_type": "code",
   "execution_count": null,
   "metadata": {},
   "outputs": [],
   "source": [
    "# python 3 environment\n",
    "import numpy as np # linear algebra\n",
    "import pandas as pd # data processing, CSV file I/O\n",
    "\n",
    "# plotly libraries\n",
    "import plotly.express as px\n",
    "import plotly.graph_objects as go\n",
    "import plotly.figure_factory as ff\n",
    "from plotly.colors import n_colors\n",
    "from plotly.subplots import make_subplots\n",
    "\n",
    "# machine learning library\n",
    "from pycaret.regression import *"
   ]
  },
  {
   "cell_type": "code",
   "execution_count": null,
   "metadata": {
    "_cell_guid": "79c7e3d0-c299-4dcb-8224-4455121ee9b0",
    "_uuid": "d629ff2d2480ee46fbb7e2d37f6b5fab8052498a"
   },
   "outputs": [],
   "source": [
    "# data \n",
    "audi = pd.read_csv('../100K UK Used Car - Price Prediction Model/Data Sources/audi.csv')\n",
    "bmw = pd.read_csv('../100K UK Used Car - Price Prediction Model/Data Sources/bmw.csv')\n",
    "cclass = pd.read_csv('../100K UK Used Car - Price Prediction Model/Data Sources/cclass.csv')\n",
    "focus = pd.read_csv('../100K UK Used Car - Price Prediction Model/Data Sources/focus.csv')\n",
    "ford = pd.read_csv('../100K UK Used Car - Price Prediction Model/Data Sources/ford.csv')\n",
    "hyundai = pd.read_csv('../100K UK Used Car - Price Prediction Model/Data Sources/hyundi.csv')\n",
    "merc = pd.read_csv('../100K UK Used Car - Price Prediction Model/Data Sources/merc.csv')\n",
    "skoda = pd.read_csv('../100K UK Used Car - Price Prediction Model/Data Sources/skoda.csv')\n",
    "toyota = pd.read_csv('../100K UK Used Car - Price Prediction Model/Data Sources/toyota.csv')\n",
    "vauxhall = pd.read_csv('../100K UK Used Car - Price Prediction Model/Data Sources/vauxhall.csv')\n",
    "vw = pd.read_csv('../100K UK Used Car - Price Prediction Model/Data Sources/vw.csv')"
   ]
  },
  {
   "cell_type": "code",
   "execution_count": null,
   "metadata": {},
   "outputs": [],
   "source": [
    "# data summary\n",
    "audi.info()"
   ]
  },
  {
   "cell_type": "markdown",
   "metadata": {},
   "source": [
    "## 1.1 Data Aggregation\n",
    "\n",
    "The data of the different files are merged to make a global work. To begin with, an additional category is added to indicate the manufacturers. Then, work will be done to unify the \"tax\" column. An additional column \"has_tax\" will be created to indicate if the column was missing in the initial file in order to better indicate to our future model that there is a missing column."
   ]
  },
  {
   "cell_type": "code",
   "execution_count": null,
   "metadata": {},
   "outputs": [],
   "source": [
    "audi['manufacturer'] = 'Audi'\n",
    "audi['has_tax'] = 1\n",
    "\n",
    "bmw['manufacturer'] = 'BMW'\n",
    "bmw['has_tax'] = 1\n",
    "\n",
    "cclass['manufacturer'] = 'Mercedes-Benz'\n",
    "cclass['has_tax'] = 0\n",
    "cclass['tax'] = np.nan\n",
    "\n",
    "focus['manufacturer'] = 'Ford'\n",
    "focus['has_tax'] = 0\n",
    "focus['tax'] = np.nan\n",
    "\n",
    "hyundai['manufacturer'] = 'Hyundai Motor'\n",
    "hyundai['has_tax'] = 1\n",
    "hyundai = hyundai.rename(columns={\"tax(£)\": \"tax\"})\n",
    "\n",
    "merc['manufacturer'] = 'Mercedes'\n",
    "merc['has_tax'] = 1\n",
    "\n",
    "skoda['manufacturer'] = 'Skoda'\n",
    "skoda['has_tax'] = 1\n",
    "\n",
    "toyota['manufacturer'] = 'Toyota'\n",
    "toyota['has_tax'] = 1\n",
    "\n",
    "vauxhall['manufacturer'] = 'Vauxhall'\n",
    "vauxhall['has_tax'] = 1\n",
    "\n",
    "vw['manufacturer'] = 'Volkswagen'\n",
    "vw['has_tax'] = 1"
   ]
  },
  {
   "cell_type": "code",
   "execution_count": null,
   "metadata": {},
   "outputs": [],
   "source": [
    "# aggregation\n",
    "cars = pd.concat([audi, bmw, cclass, focus, hyundai, merc, skoda, toyota, vauxhall, vw], ignore_index=True)\n",
    "\n",
    "# dimensionality\n",
    "cars.shape"
   ]
  },
  {
   "cell_type": "code",
   "execution_count": null,
   "metadata": {},
   "outputs": [],
   "source": [
    "# data overview\n",
    "cars"
   ]
  },
  {
   "cell_type": "markdown",
   "metadata": {},
   "source": [
    "# Step 2 : Exploratory Data Analysis"
   ]
  },
  {
   "cell_type": "markdown",
   "metadata": {},
   "source": [
    "## 2.1 Quantitative representation of variables"
   ]
  },
  {
   "cell_type": "markdown",
   "metadata": {},
   "source": [
    "### **Question** : How many cars per Manufacturers?"
   ]
  },
  {
   "cell_type": "code",
   "execution_count": null,
   "metadata": {},
   "outputs": [],
   "source": [
    "fig = px.histogram(cars, x=\"manufacturer\", hover_data=cars.columns)\n",
    "fig.update_layout(title='Quantitative representation of the number of vehicles per manufacturer')\n",
    "fig.show()"
   ]
  },
  {
   "cell_type": "markdown",
   "metadata": {},
   "source": [
    "## 2.2 Statistical Distribution"
   ]
  },
  {
   "cell_type": "markdown",
   "metadata": {},
   "source": [
    "### **Question** :  What's the probabilities of occurrence for Price, Year, Miles Per Gallon, Mileage, Tax and Engine Size ?"
   ]
  },
  {
   "cell_type": "code",
   "execution_count": null,
   "metadata": {},
   "outputs": [],
   "source": [
    "fig = px.histogram(cars, x=\"price\", marginal=\"box\")\n",
    "fig.update_layout(title='Statistical Distribution of Price')\n",
    "fig.show()"
   ]
  },
  {
   "cell_type": "code",
   "execution_count": null,
   "metadata": {},
   "outputs": [],
   "source": [
    "fig = px.histogram(cars, x=\"year\", marginal=\"box\")\n",
    "fig.update_layout(title='Statistical Distribution of Year')\n",
    "fig.show()"
   ]
  },
  {
   "cell_type": "code",
   "execution_count": null,
   "metadata": {},
   "outputs": [],
   "source": [
    "fig = px.histogram(cars, x=\"mpg\", marginal=\"box\")\n",
    "fig.update_layout(title='Statistical Distribution of Miles Per Gallon')\n",
    "fig.show()"
   ]
  },
  {
   "cell_type": "code",
   "execution_count": null,
   "metadata": {},
   "outputs": [],
   "source": [
    "fig = px.histogram(cars, x=\"mileage\", marginal=\"box\")\n",
    "fig.update_layout(title='Statistical Distribution of Mileage')\n",
    "fig.show()"
   ]
  },
  {
   "cell_type": "code",
   "execution_count": null,
   "metadata": {},
   "outputs": [],
   "source": [
    "fig = px.histogram(cars, x=\"tax\", marginal=\"box\")\n",
    "fig.update_layout(title='Statistical Distribution of Tax')\n",
    "fig.show()"
   ]
  },
  {
   "cell_type": "code",
   "execution_count": null,
   "metadata": {},
   "outputs": [],
   "source": [
    "fig = px.histogram(cars, x=\"engineSize\", marginal=\"box\")\n",
    "fig.update_layout(title='Statistical Distribution of Engine Size')\n",
    "fig.show()"
   ]
  },
  {
   "cell_type": "markdown",
   "metadata": {},
   "source": [
    "## 2.3 Relationship between values"
   ]
  },
  {
   "cell_type": "markdown",
   "metadata": {},
   "source": [
    "### **Question :** How much dependency between Sales Prices and the Manufacturer?"
   ]
  },
  {
   "cell_type": "code",
   "execution_count": null,
   "metadata": {},
   "outputs": [],
   "source": [
    "fig = px.scatter(cars, x='manufacturer', y='price', color='price')\n",
    "fig.update_layout(title='Sales Price VS Manufacturer',xaxis_title=\"Manufacturer\",yaxis_title=\"Price\")\n",
    "fig.show()"
   ]
  },
  {
   "cell_type": "markdown",
   "metadata": {},
   "source": [
    "### **Question :** How much dependency between Sales Prices and Mileage?"
   ]
  },
  {
   "cell_type": "code",
   "execution_count": null,
   "metadata": {},
   "outputs": [],
   "source": [
    "fig = px.scatter(cars, x='mileage', y='price', color='price')\n",
    "fig.update_layout(title='Sales Price VS Mileage',xaxis_title=\"Mileage\",yaxis_title=\"Price\")\n",
    "fig.show()"
   ]
  },
  {
   "cell_type": "markdown",
   "metadata": {},
   "source": [
    "### **Question :** How much dependency between Sales Prices and Transmission?"
   ]
  },
  {
   "cell_type": "code",
   "execution_count": null,
   "metadata": {},
   "outputs": [],
   "source": [
    "fig = px.scatter(cars, x='transmission', y='price', color='price')\n",
    "fig.update_layout(title='Sales Price VS Transmission System',xaxis_title=\"Transmission\",yaxis_title=\"Price\")\n",
    "fig.show()"
   ]
  },
  {
   "cell_type": "markdown",
   "metadata": {},
   "source": [
    "# Step 3 : Model"
   ]
  },
  {
   "cell_type": "markdown",
   "metadata": {},
   "source": [
    "## 3.1 Setting up Environment\n",
    "\n",
    "This function initializes the environment in pycaret and creates the transformation pipeline to prepare the data for modeling and deployment."
   ]
  },
  {
   "cell_type": "code",
   "execution_count": null,
   "metadata": {},
   "outputs": [],
   "source": [
    "env = setup(cars, \n",
    "            target='price', \n",
    "            normalize=True, \n",
    "            transformation=True, \n",
    "            transform_target=True, \n",
    "            polynomial_features=True, \n",
    "            polynomial_degree=2, \n",
    "            sampling=False, \n",
    "            silent=True,  \n",
    "            session_id=707)"
   ]
  },
  {
   "cell_type": "markdown",
   "metadata": {},
   "source": [
    "## 3.2 Compare Models\n",
    "\n",
    "This function uses all models in the model library and scores them using K-fold Cross Validation. The output prints a score grid that shows MAE, MSE, RMSE, R2, RMSLE and MAPE by fold (default CV = 10 Folds) of all the available models in model library."
   ]
  },
  {
   "cell_type": "code",
   "execution_count": null,
   "metadata": {},
   "outputs": [],
   "source": [
    "compare_models(blacklist=['svm', 'tr', 'ransac', 'huber', 'lar', 'llar', 'lr'])"
   ]
  },
  {
   "cell_type": "markdown",
   "metadata": {},
   "source": [
    "## 3.3 Create Model\n",
    "\n",
    "This function tunes the hyperparameters of a model and scores it using K-fold Cross Validation. The output prints the score grid that shows MAE, MSE, RMSE, R2, RMSLE and MAPE by fold (by default = 10 Folds). This function returns a trained model object. The model was not tuned because it takes too much time and was not considered necessary in this context."
   ]
  },
  {
   "cell_type": "code",
   "execution_count": null,
   "metadata": {},
   "outputs": [],
   "source": [
    "rf = create_model('rf')"
   ]
  },
  {
   "cell_type": "markdown",
   "metadata": {},
   "source": [
    "## 3.4 Evaluate Model\n",
    "\n",
    "\n",
    "This function takes a trained model object and returns a plot based on the test / hold-out set. "
   ]
  },
  {
   "cell_type": "code",
   "execution_count": null,
   "metadata": {},
   "outputs": [],
   "source": [
    "plot_model(rf, plot='parameter')"
   ]
  },
  {
   "cell_type": "code",
   "execution_count": null,
   "metadata": {},
   "outputs": [],
   "source": [
    "plot_model(rf, plot='feature')"
   ]
  },
  {
   "cell_type": "markdown",
   "metadata": {},
   "source": [
    "## 3.5 Finalize Model\n",
    "\n",
    "This function fits the estimator onto the complete dataset passed during the setup() stage. The purpose of this function is to prepare for final model deployment after experimentation."
   ]
  },
  {
   "cell_type": "code",
   "execution_count": null,
   "metadata": {},
   "outputs": [],
   "source": [
    "rf_final = finalize_model(rf)"
   ]
  },
  {
   "cell_type": "markdown",
   "metadata": {},
   "source": [
    "## 3.6 Save Model\n",
    "\n",
    "\n",
    "This function saves the transformation pipeline and trained model object into the current active directory as a pickle file for later use."
   ]
  },
  {
   "cell_type": "code",
   "execution_count": null,
   "metadata": {},
   "outputs": [],
   "source": [
    "save_model(rf_final, '100k_used_car_rf_model_lrm_28072020')"
   ]
  }
 ],
 "metadata": {
  "kernelspec": {
   "display_name": "Python 3",
   "language": "python",
   "name": "python3"
  },
  "language_info": {
   "codemirror_mode": {
    "name": "ipython",
    "version": 3
   },
   "file_extension": ".py",
   "mimetype": "text/x-python",
   "name": "python",
   "nbconvert_exporter": "python",
   "pygments_lexer": "ipython3",
   "version": "3.7.7"
  }
 },
 "nbformat": 4,
 "nbformat_minor": 4
}
